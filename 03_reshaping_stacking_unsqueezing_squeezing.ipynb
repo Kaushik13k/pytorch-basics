{
  "nbformat": 4,
  "nbformat_minor": 0,
  "metadata": {
    "colab": {
      "provenance": []
    },
    "kernelspec": {
      "name": "python3",
      "display_name": "Python 3"
    },
    "language_info": {
      "name": "python"
    }
  },
  "cells": [
    {
      "cell_type": "code",
      "source": [
        "import torch\n",
        "\n",
        "# Creating a tensor\n",
        "tensor_A = torch.arange(1., 10.)\n",
        "print(f\"Original tensor: {tensor_A}\")\n",
        "print(f\"Original shape: {tensor_A.shape}\")\n",
        "\n",
        "# Reshaping the tensor (changes the shape)\n",
        "tensor_reshaped = tensor_A.reshape(9, 1)\n",
        "print(f\"Reshaped tensor:\\n{tensor_reshaped}\")\n",
        "print(f\"Reshaped shape: {tensor_reshaped.shape}\")"
      ],
      "metadata": {
        "colab": {
          "base_uri": "https://localhost:8080/"
        },
        "id": "M7N1Kd4XOtUE",
        "outputId": "e1bc76e6-f56f-4e4d-f423-ec934b9f35d8"
      },
      "execution_count": 13,
      "outputs": [
        {
          "output_type": "stream",
          "name": "stdout",
          "text": [
            "Original tensor: tensor([1., 2., 3., 4., 5., 6., 7., 8., 9.])\n",
            "Original shape: torch.Size([9])\n",
            "Reshaped tensor:\n",
            "tensor([[1.],\n",
            "        [2.],\n",
            "        [3.],\n",
            "        [4.],\n",
            "        [5.],\n",
            "        [6.],\n",
            "        [7.],\n",
            "        [8.],\n",
            "        [9.]])\n",
            "Reshaped shape: torch.Size([9, 1])\n"
          ]
        }
      ]
    },
    {
      "cell_type": "code",
      "source": [
        "# Changing the view (similar to reshape but shares the same data)\n",
        "tensor_view = tensor_A.view(1, 9)\n",
        "print(f\"Viewed tensor:\\n{tensor_view}\")\n",
        "print(f\"Viewed shape: {tensor_view.shape}\")\n",
        "\n",
        "# Stacking tensors (combining multiple tensors along a specified dimension)\n",
        "tensor_stacked = torch.stack([tensor_A, tensor_A, tensor_A], dim=1)\n",
        "print(f\"Stacked tensor:\\n{tensor_stacked}\")\n",
        "print(f\"Stacked shape: {tensor_stacked.shape}\")"
      ],
      "metadata": {
        "colab": {
          "base_uri": "https://localhost:8080/"
        },
        "id": "Z9o313klOvV1",
        "outputId": "9ab2e2ec-75b6-420d-c28a-8674a53448e7"
      },
      "execution_count": 14,
      "outputs": [
        {
          "output_type": "stream",
          "name": "stdout",
          "text": [
            "Viewed tensor:\n",
            "tensor([[1., 2., 3., 4., 5., 6., 7., 8., 9.]])\n",
            "Viewed shape: torch.Size([1, 9])\n",
            "Stacked tensor:\n",
            "tensor([[1., 1., 1.],\n",
            "        [2., 2., 2.],\n",
            "        [3., 3., 3.],\n",
            "        [4., 4., 4.],\n",
            "        [5., 5., 5.],\n",
            "        [6., 6., 6.],\n",
            "        [7., 7., 7.],\n",
            "        [8., 8., 8.],\n",
            "        [9., 9., 9.]])\n",
            "Stacked shape: torch.Size([9, 3])\n"
          ]
        }
      ]
    },
    {
      "cell_type": "code",
      "source": [
        "# Squeezing (removes all dimensions of size 1)\n",
        "tensor_single_dim = tensor_A.reshape(1, 9)\n",
        "print(f\"Tensor before squeeze:\\n{tensor_single_dim}\")\n",
        "print(f\"Shape before squeeze: {tensor_single_dim.shape}\")\n",
        "\n",
        "tensor_squeezed = tensor_single_dim.squeeze()\n",
        "print(f\"Squeezed tensor:\\n{tensor_squeezed}\")\n",
        "print(f\"Shape after squeeze: {tensor_squeezed.shape}\")"
      ],
      "metadata": {
        "colab": {
          "base_uri": "https://localhost:8080/"
        },
        "id": "NjzJOw2pOygn",
        "outputId": "ba6d4a31-ef43-4b75-9d43-9a40d432fe1b"
      },
      "execution_count": 9,
      "outputs": [
        {
          "output_type": "stream",
          "name": "stdout",
          "text": [
            "Tensor before squeeze:\n",
            "tensor([[1., 2., 3., 4., 5., 6., 7., 8., 9.]])\n",
            "Shape before squeeze: torch.Size([1, 9])\n",
            "Squeezed tensor:\n",
            "tensor([1., 2., 3., 4., 5., 6., 7., 8., 9.])\n",
            "Shape after squeeze: torch.Size([9])\n"
          ]
        }
      ]
    },
    {
      "cell_type": "code",
      "source": [
        "# Unsqueezing (adds a dimension of size 1 at the specified position)\n",
        "tensor_unsqueezed = tensor_A.unsqueeze(0)  # Add a dimension at index 0\n",
        "print(f\"Unsqueezed tensor:\\n{tensor_unsqueezed}\")\n",
        "print(f\"Shape after unsqueeze: {tensor_unsqueezed.shape}\")\n",
        "\n",
        "# Permute (rearranges the dimensions of a tensor)\n",
        "tensor_original = torch.rand(size=(224, 222, 3))  # Shape: [height, width, color_channels]\n",
        "tensor_permuted = tensor_original.permute(2, 0, 1)  # Rearrange to [color_channels, height, width]\n",
        "print(f\"Permuted tensor:\\n{tensor_permuted}\")\n",
        "print(f\"Permuted shape: {tensor_permuted.shape}\")"
      ],
      "metadata": {
        "colab": {
          "base_uri": "https://localhost:8080/"
        },
        "id": "x1v46gcGO3U3",
        "outputId": "bd77ff20-b133-4237-f3e8-ae4b2b358727"
      },
      "execution_count": 10,
      "outputs": [
        {
          "output_type": "stream",
          "name": "stdout",
          "text": [
            "Unsqueezed tensor:\n",
            "tensor([[1., 2., 3., 4., 5., 6., 7., 8., 9.]])\n",
            "Shape after unsqueeze: torch.Size([1, 9])\n",
            "Permuted tensor:\n",
            "tensor([[[0.8219, 0.9992, 0.2425,  ..., 0.4471, 0.9324, 0.2879],\n",
            "         [0.2032, 0.9071, 0.1590,  ..., 0.0763, 0.5737, 0.5609],\n",
            "         [0.7700, 0.5847, 0.9996,  ..., 0.5394, 0.1786, 0.6417],\n",
            "         ...,\n",
            "         [0.4389, 0.8371, 0.7964,  ..., 0.5268, 0.5852, 0.6822],\n",
            "         [0.1582, 0.3151, 0.7655,  ..., 0.9614, 0.0455, 0.2345],\n",
            "         [0.2120, 0.3601, 0.4860,  ..., 0.5116, 0.3985, 0.0671]],\n",
            "\n",
            "        [[0.5401, 0.0657, 0.7237,  ..., 0.7401, 0.0913, 0.3888],\n",
            "         [0.1667, 0.9073, 0.7399,  ..., 0.9194, 0.6973, 0.1076],\n",
            "         [0.4637, 0.8216, 0.3684,  ..., 0.4305, 0.1750, 0.3127],\n",
            "         ...,\n",
            "         [0.7901, 0.3894, 0.4612,  ..., 0.1588, 0.4838, 0.3723],\n",
            "         [0.2001, 0.9127, 0.8390,  ..., 0.2781, 0.3622, 0.4769],\n",
            "         [0.4140, 0.7443, 0.7263,  ..., 0.2838, 0.0247, 0.4614]],\n",
            "\n",
            "        [[0.1825, 0.4778, 0.2163,  ..., 0.5673, 0.0017, 0.0668],\n",
            "         [0.3079, 0.1742, 0.2865,  ..., 0.9941, 0.0155, 0.5469],\n",
            "         [0.7964, 0.8669, 0.5264,  ..., 0.8174, 0.1612, 0.6835],\n",
            "         ...,\n",
            "         [0.8133, 0.8228, 0.2539,  ..., 0.8199, 0.6890, 0.2860],\n",
            "         [0.5576, 0.8181, 0.2398,  ..., 0.5150, 0.2624, 0.5719],\n",
            "         [0.4749, 0.8955, 0.1870,  ..., 0.6407, 0.7918, 0.5387]]])\n",
            "Permuted shape: torch.Size([3, 224, 222])\n"
          ]
        }
      ]
    },
    {
      "cell_type": "code",
      "source": [],
      "metadata": {
        "id": "HCFyzq5VO6Kj"
      },
      "execution_count": null,
      "outputs": []
    }
  ]
}