{
  "nbformat": 4,
  "nbformat_minor": 0,
  "metadata": {
    "colab": {
      "provenance": []
    },
    "kernelspec": {
      "name": "python3",
      "display_name": "Python 3"
    },
    "language_info": {
      "name": "python"
    }
  },
  "cells": [
    {
      "cell_type": "code",
      "execution_count": 1,
      "metadata": {
        "colab": {
          "base_uri": "https://localhost:8080/"
        },
        "id": "vMHgL8BwM1PL",
        "outputId": "1641d386-e88b-4e36-9ce4-c32d418f0520"
      },
      "outputs": [
        {
          "output_type": "stream",
          "name": "stdout",
          "text": [
            "tensor([1., 2., 3.], dtype=torch.float16)\n"
          ]
        }
      ],
      "source": [
        "import torch\n",
        "\n",
        "# Convert a tensor to a different data type (float32 to float16)\n",
        "float32_tensor = torch.tensor([1.0, 2.0, 3.0])  # Example tensor\n",
        "float16_tensor = float32_tensor.type(torch.float16)\n",
        "print(float16_tensor)"
      ]
    },
    {
      "cell_type": "code",
      "source": [
        "# Basic tensor operations: addition, subtraction, multiplication, division\n",
        "basic_tensor = torch.tensor([1, 2, 3])\n",
        "\n",
        "print(basic_tensor + 10)  # Add 10 to each element\n",
        "print(basic_tensor - 10)  # Subtract 10 from each element\n",
        "print(basic_tensor * 10)  # Multiply each element by 10\n",
        "print(basic_tensor / 10)  # Divide each element by 10"
      ],
      "metadata": {
        "colab": {
          "base_uri": "https://localhost:8080/"
        },
        "id": "BUPtme3tNBhp",
        "outputId": "757f3ce4-339e-43f2-b3fd-eb8a02ec1aef"
      },
      "execution_count": 2,
      "outputs": [
        {
          "output_type": "stream",
          "name": "stdout",
          "text": [
            "tensor([11, 12, 13])\n",
            "tensor([-9, -8, -7])\n",
            "tensor([10, 20, 30])\n",
            "tensor([0.1000, 0.2000, 0.3000])\n"
          ]
        }
      ]
    },
    {
      "cell_type": "code",
      "source": [
        "# Element-wise multiplication\n",
        "tensor1 = torch.tensor([1, 2, 3])\n",
        "tensor2 = torch.tensor([1, 2, 3])\n",
        "print(tensor1 * tensor2)  # Each element in tensor1 is multiplied by the corresponding element in tensor2\n",
        "\n",
        "# Dot product (matrix multiplication)\n",
        "dot_product_result = torch.matmul(tensor1, tensor2)\n",
        "print(dot_product_result)\n",
        "\n",
        "# Rules for matrix multiplication:\n",
        "# 1. The inner dimensions must match (e.g., (2, 3) @ (3, 2) works, but (3, 2) @ (3, 2) does not).\n",
        "# 2. The resulting matrix has the shape of the outer dimensions (e.g., (2, 3) @ (3, 2) -> (2, 2))."
      ],
      "metadata": {
        "colab": {
          "base_uri": "https://localhost:8080/"
        },
        "id": "xVY-wzZ8NC3F",
        "outputId": "d50d7f74-57de-462b-8566-3dee590dc27f"
      },
      "execution_count": 3,
      "outputs": [
        {
          "output_type": "stream",
          "name": "stdout",
          "text": [
            "tensor([1, 4, 9])\n",
            "tensor(14)\n"
          ]
        }
      ]
    },
    {
      "cell_type": "code",
      "source": [
        "# Example of incorrect matrix multiplication\n",
        "matrix_A = torch.tensor([[1, 2], [3, 4], [5, 6]])  # Shape: (3, 2)\n",
        "matrix_B = torch.tensor([[7, 10], [8, 11], [9, 12]])  # Shape: (3, 2)\n",
        "\n",
        "print(matrix_A.shape)  # Output: (3, 2)\n",
        "print(matrix_B.shape)  # Output: (3, 2)\n",
        "\n",
        "# Incorrect matrix multiplication (shapes do not align)\n",
        "# print(torch.matmul(matrix_A, matrix_B))  # Uncommenting this will raise a RuntimeError\n",
        "\n",
        "# Fix the issue by transposing matrix_B\n",
        "matrix_B_transposed = matrix_B.T\n",
        "print(matrix_B_transposed)  # Transposed matrix_B\n",
        "print(matrix_B_transposed.shape)  # New shape: (2, 3)\n",
        "\n",
        "# Now, matrix multiplication works\n",
        "correct_matrix_mult = torch.matmul(matrix_A, matrix_B_transposed)\n",
        "print(correct_matrix_mult)"
      ],
      "metadata": {
        "colab": {
          "base_uri": "https://localhost:8080/"
        },
        "id": "b4TcsOEgNEQx",
        "outputId": "7816c0bd-9598-4962-f4da-746e625aaeed"
      },
      "execution_count": 4,
      "outputs": [
        {
          "output_type": "stream",
          "name": "stdout",
          "text": [
            "torch.Size([3, 2])\n",
            "torch.Size([3, 2])\n",
            "tensor([[ 7,  8,  9],\n",
            "        [10, 11, 12]])\n",
            "torch.Size([2, 3])\n",
            "tensor([[ 27,  30,  33],\n",
            "        [ 61,  68,  75],\n",
            "        [ 95, 106, 117]])\n"
          ]
        }
      ]
    },
    {
      "cell_type": "code",
      "source": [
        "# Basic tensor operations: min, max, sum, mean\n",
        "range_tensor = torch.arange(0, 100, 10)\n",
        "print(range_tensor)\n",
        "\n",
        "print(range_tensor.min())  # Minimum value in the tensor\n",
        "print(range_tensor.max())  # Maximum value in the tensor\n",
        "print(range_tensor.sum())  # Sum of all elements in the tensor\n",
        "print(range_tensor.type(torch.float32).mean())  # Mean of elements, requires float32 type\n",
        "\n",
        "# Find the index of the minimum and maximum values\n",
        "print(range_tensor.argmin())  # Index of the minimum value\n",
        "print(range_tensor.argmax())  # Index of the maximum value"
      ],
      "metadata": {
        "id": "QUPT9dBENFxi",
        "outputId": "fcb9529c-b59d-4d24-e363-14962d37d63b",
        "colab": {
          "base_uri": "https://localhost:8080/"
        }
      },
      "execution_count": 5,
      "outputs": [
        {
          "output_type": "stream",
          "name": "stdout",
          "text": [
            "tensor([ 0, 10, 20, 30, 40, 50, 60, 70, 80, 90])\n",
            "tensor(0)\n",
            "tensor(90)\n",
            "tensor(450)\n",
            "tensor(45.)\n",
            "tensor(0)\n",
            "tensor(9)\n"
          ]
        }
      ]
    },
    {
      "cell_type": "code",
      "source": [],
      "metadata": {
        "id": "bgFpUq24NHag"
      },
      "execution_count": null,
      "outputs": []
    }
  ]
}