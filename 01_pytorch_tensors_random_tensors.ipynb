{
  "nbformat": 4,
  "nbformat_minor": 0,
  "metadata": {
    "colab": {
      "provenance": []
    },
    "kernelspec": {
      "name": "python3",
      "display_name": "Python 3"
    },
    "language_info": {
      "name": "python"
    }
  },
  "cells": [
    {
      "cell_type": "code",
      "source": [
        "import torch\n",
        "print(torch.__version__)\n",
        "\n",
        "# Scalar tensor\n",
        "scalar_tensor = torch.tensor(7)\n",
        "print(f\"Scalar value: {scalar_tensor}\")\n",
        "\n",
        "# Get the dimension of the scalar tensor\n",
        "scalar_tensor_dim = scalar_tensor.ndim\n",
        "print(f\"Scalar dimension: {scalar_tensor_dim}\")\n",
        "\n",
        "# Get the scalar value as a Python number\n",
        "scalar_value = scalar_tensor.item()\n",
        "print(f\"Scalar item: {scalar_value}\")"
      ],
      "metadata": {
        "colab": {
          "base_uri": "https://localhost:8080/"
        },
        "id": "vTCuKRwZ5XNm",
        "outputId": "6e25b36b-f344-4fb4-f946-37e0f0770ea6"
      },
      "execution_count": 7,
      "outputs": [
        {
          "output_type": "stream",
          "name": "stdout",
          "text": [
            "2.4.0+cu121\n",
            "Scalar value: 7\n",
            "Scalar dimension: 0\n",
            "Scalar item: 7\n"
          ]
        }
      ]
    },
    {
      "cell_type": "code",
      "source": [
        "# Vector tensor\n",
        "vector_tensor = torch.tensor([7, 7])\n",
        "print(f\"Vector value: {vector_tensor}\")\n",
        "\n",
        "# Get the dimension of the vector tensor\n",
        "vector_tensor_dim = vector_tensor.ndim\n",
        "print(f\"Vector dimension: {vector_tensor_dim}\")\n",
        "\n",
        "# Get the shape of the vector tensor\n",
        "vector_tensor_shape = vector_tensor.shape\n",
        "print(f\"Vector shape: {vector_tensor_shape}\")"
      ],
      "metadata": {
        "colab": {
          "base_uri": "https://localhost:8080/"
        },
        "id": "P9SnkY6p5XLi",
        "outputId": "5c920ddd-1e7e-4e7a-872f-5ec20cb1bda6"
      },
      "execution_count": 8,
      "outputs": [
        {
          "output_type": "stream",
          "name": "stdout",
          "text": [
            "Vector value: tensor([7, 7])\n",
            "Vector dimension: 1\n",
            "Vector shape: torch.Size([2])\n"
          ]
        }
      ]
    },
    {
      "cell_type": "code",
      "source": [
        "# Matrix tensor\n",
        "matrix_tensor = torch.tensor([[7, 7], [8, 8]])\n",
        "print(f\"Matrix value: \\n{matrix_tensor}\")\n",
        "\n",
        "# Get the dimension of the matrix tensor\n",
        "matrix_tensor_dim = matrix_tensor.ndim\n",
        "print(f\"Matrix dimension: {matrix_tensor_dim}\")\n",
        "\n",
        "# Get the shape of the matrix tensor\n",
        "matrix_tensor_shape = matrix_tensor.shape\n",
        "print(f\"Matrix shape: {matrix_tensor_shape}\")"
      ],
      "metadata": {
        "colab": {
          "base_uri": "https://localhost:8080/"
        },
        "id": "77Iqs76Z5XI9",
        "outputId": "dd68b1c1-763f-4d46-ff75-32c1e750aa52"
      },
      "execution_count": 9,
      "outputs": [
        {
          "output_type": "stream",
          "name": "stdout",
          "text": [
            "Matrix value: \n",
            "tensor([[7, 7],\n",
            "        [8, 8]])\n",
            "Matrix dimension: 2\n",
            "Matrix shape: torch.Size([2, 2])\n"
          ]
        }
      ]
    },
    {
      "cell_type": "code",
      "source": [
        "# 3D Tensor\n",
        "tensor_3d = torch.tensor([[[1, 2, 3], [4, 5, 6], [7, 8, 9]]])\n",
        "print(f\"3D Tensor value: \\n{tensor_3d}\")\n",
        "\n",
        "# Get the dimension of the 3D tensor\n",
        "tensor_3d_dim = tensor_3d.ndim\n",
        "print(f\"3D Tensor dimension: {tensor_3d_dim}\")\n",
        "\n",
        "# Get the shape of the 3D tensor\n",
        "tensor_3d_shape = tensor_3d.shape\n",
        "print(f\"3D Tensor shape: {tensor_3d_shape}\")"
      ],
      "metadata": {
        "colab": {
          "base_uri": "https://localhost:8080/"
        },
        "id": "vS613kTO5XB7",
        "outputId": "a2dae2f0-6498-4c5f-d993-2d584df20110"
      },
      "execution_count": 10,
      "outputs": [
        {
          "output_type": "stream",
          "name": "stdout",
          "text": [
            "3D Tensor value: \n",
            "tensor([[[1, 2, 3],\n",
            "         [4, 5, 6],\n",
            "         [7, 8, 9]]])\n",
            "3D Tensor dimension: 3\n",
            "3D Tensor shape: torch.Size([1, 3, 3])\n"
          ]
        }
      ]
    },
    {
      "cell_type": "code",
      "source": [
        "# Create a random tensor of size (1, 3, 4)\n",
        "random_tensor = torch.rand(size=(1, 3, 4))\n",
        "print(f\"Random tensor value: \\n{random_tensor}\")\n",
        "\n",
        "# Create a tensor filled with zeros of size (3, 4)\n",
        "zeros_tensor = torch.zeros(size=(3, 4))\n",
        "print(f\"Zeros tensor value: \\n{zeros_tensor}\")\n",
        "\n",
        "# Create a tensor filled with ones of size (3, 4)\n",
        "ones_tensor = torch.ones(size=(3, 4))\n",
        "print(f\"Ones tensor value: \\n{ones_tensor}\")\n",
        "\n",
        "# Create a tensor with a range of values from 0 to 100 with a step of 10\n",
        "range_tensor = torch.arange(start=0, end=100, step=10)\n",
        "print(f\"Range tensor value: {range_tensor}\")\n",
        "\n",
        "# Create a tensor of zeros with the same shape as another tensor\n",
        "zeros_like_tensor = torch.zeros_like(input=range_tensor)\n",
        "print(f\"Tensor with zeros like range_tensor: {zeros_like_tensor}\")"
      ],
      "metadata": {
        "colab": {
          "base_uri": "https://localhost:8080/"
        },
        "id": "2wgN73fa5V2M",
        "outputId": "cc8c1c42-9d8f-4896-abab-4bd966918455"
      },
      "execution_count": 11,
      "outputs": [
        {
          "output_type": "stream",
          "name": "stdout",
          "text": [
            "Random tensor value: \n",
            "tensor([[[0.0483, 0.1169, 0.7534, 0.4898],\n",
            "         [0.2083, 0.3300, 0.8267, 0.5876],\n",
            "         [0.9432, 0.6863, 0.5963, 0.0380]]])\n",
            "Zeros tensor value: \n",
            "tensor([[0., 0., 0., 0.],\n",
            "        [0., 0., 0., 0.],\n",
            "        [0., 0., 0., 0.]])\n",
            "Ones tensor value: \n",
            "tensor([[1., 1., 1., 1.],\n",
            "        [1., 1., 1., 1.],\n",
            "        [1., 1., 1., 1.]])\n",
            "Range tensor value: tensor([ 0, 10, 20, 30, 40, 50, 60, 70, 80, 90])\n",
            "Tensor with zeros like range_tensor: tensor([0, 0, 0, 0, 0, 0, 0, 0, 0, 0])\n"
          ]
        }
      ]
    }
  ]
}