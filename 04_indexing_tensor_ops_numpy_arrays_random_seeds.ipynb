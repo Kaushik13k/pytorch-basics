{
  "nbformat": 4,
  "nbformat_minor": 0,
  "metadata": {
    "colab": {
      "provenance": []
    },
    "kernelspec": {
      "name": "python3",
      "display_name": "Python 3"
    },
    "language_info": {
      "name": "python"
    }
  },
  "cells": [
    {
      "cell_type": "code",
      "source": [
        "import torch\n",
        "import numpy as np\n",
        "\n",
        "# Torch tensor indexing and reshaping example\n",
        "# Create a 1x3x3 tensor with values ranging from 1 to 9\n",
        "x = torch.arange(1, 10).reshape(1, 3, 3)\n",
        "print(f\"Tensor x:\\n{x}\\nShape of x: {x.shape}\\n\")\n",
        "\n",
        "# Accessing elements using different indexing methods\n",
        "print(f\"x[0]:\\n{x[0]}\\n\")       # First 2D slice\n",
        "print(f\"x[0][0]:\\n{x[0][0]}\\n\") # First row of the first slice\n",
        "print(f\"x[0][0][0]: {x[0][0][0]}\\n\") # First element of the first row of the first slice"
      ],
      "metadata": {
        "colab": {
          "base_uri": "https://localhost:8080/"
        },
        "id": "GbHOj1WPD40x",
        "outputId": "1aef06e1-1472-49c1-eb6a-af4731b2fd49"
      },
      "execution_count": 10,
      "outputs": [
        {
          "output_type": "stream",
          "name": "stdout",
          "text": [
            "Tensor x:\n",
            "tensor([[[1, 2, 3],\n",
            "         [4, 5, 6],\n",
            "         [7, 8, 9]]])\n",
            "Shape of x: torch.Size([1, 3, 3])\n",
            "\n",
            "x[0]:\n",
            "tensor([[1, 2, 3],\n",
            "        [4, 5, 6],\n",
            "        [7, 8, 9]])\n",
            "\n",
            "x[0][0]:\n",
            "tensor([1, 2, 3])\n",
            "\n",
            "x[0][0][0]: 1\n",
            "\n"
          ]
        }
      ]
    },
    {
      "cell_type": "code",
      "source": [
        "# Alternative indexing (equivalent to above)\n",
        "print(f\"x[0]:\\n{x[0]}\\n\")       # First 2D slice (same as above)\n",
        "print(f\"x[0, 0]:\\n{x[0, 0]}\\n\") # First row of the first slice (same as above)\n",
        "print(f\"x[0, 0, 0]: {x[0, 0, 0]}\\n\") # First element (same as above)\n",
        "\n",
        "# NumPy array to PyTorch tensor conversion\n",
        "array = np.arange(1.0, 8.0)  # Create a NumPy array from 1 to 7\n",
        "tensor_from_numpy = torch.from_numpy(array)  # Convert NumPy array to PyTorch tensor\n",
        "print(f\"NumPy array:\\n{array}\")\n",
        "print(f\"Converted PyTorch tensor:\\n{tensor_from_numpy}\\n\")"
      ],
      "metadata": {
        "colab": {
          "base_uri": "https://localhost:8080/"
        },
        "id": "sF9Ez-caWoA3",
        "outputId": "a7b9ff21-57f9-4a94-97dd-f8f2f54b2c48"
      },
      "execution_count": 11,
      "outputs": [
        {
          "output_type": "stream",
          "name": "stdout",
          "text": [
            "x[0]:\n",
            "tensor([[1, 2, 3],\n",
            "        [4, 5, 6],\n",
            "        [7, 8, 9]])\n",
            "\n",
            "x[0, 0]:\n",
            "tensor([1, 2, 3])\n",
            "\n",
            "x[0, 0, 0]: 1\n",
            "\n",
            "NumPy array:\n",
            "[1. 2. 3. 4. 5. 6. 7.]\n",
            "Converted PyTorch tensor:\n",
            "tensor([1., 2., 3., 4., 5., 6., 7.], dtype=torch.float64)\n",
            "\n"
          ]
        }
      ]
    },
    {
      "cell_type": "code",
      "source": [
        "# Demonstrating reproducibility with random numbers in PyTorch\n",
        "# Generating random tensors without manual seed\n",
        "random_tensor_A = torch.rand(3, 3)\n",
        "random_tensor_B = torch.rand(3, 3)\n",
        "print(f\"Random Tensor A:\\n{random_tensor_A}\")\n",
        "print(f\"Random Tensor B:\\n{random_tensor_B}\\n\")\n",
        "\n",
        "# Setting a random seed for reproducibility\n",
        "RANDOM_SEED = 42\n",
        "torch.manual_seed(RANDOM_SEED)\n",
        "random_tensor_C = torch.rand(3, 3)\n",
        "print(f\"Random Tensor C (with seed {RANDOM_SEED}):\\n{random_tensor_C}\\n\")\n",
        "\n",
        "# Resetting the manual seed to get the same random values\n",
        "torch.manual_seed(RANDOM_SEED)\n",
        "random_tensor_D = torch.rand(3, 3)\n",
        "print(f\"Random Tensor D (with seed {RANDOM_SEED}):\\n{random_tensor_D}\\n\")\n",
        "\n",
        "# Verify that the two tensors are identical\n",
        "print(f\"Are Tensor C and Tensor D identical? {random_tensor_C.equal(random_tensor_D)}\\n\")"
      ],
      "metadata": {
        "colab": {
          "base_uri": "https://localhost:8080/"
        },
        "id": "EQmxly-mW4gz",
        "outputId": "e3f5a740-3b47-47d4-a991-a844db8436c0"
      },
      "execution_count": 8,
      "outputs": [
        {
          "output_type": "stream",
          "name": "stdout",
          "text": [
            "Random Tensor A:\n",
            "tensor([[0.1332, 0.9346, 0.5936],\n",
            "        [0.8694, 0.5677, 0.7411],\n",
            "        [0.4294, 0.8854, 0.5739]])\n",
            "Random Tensor B:\n",
            "tensor([[0.2666, 0.6274, 0.2696],\n",
            "        [0.4414, 0.2969, 0.8317],\n",
            "        [0.1053, 0.2695, 0.3588]])\n",
            "\n",
            "Random Tensor C (with seed 42):\n",
            "tensor([[0.8823, 0.9150, 0.3829],\n",
            "        [0.9593, 0.3904, 0.6009],\n",
            "        [0.2566, 0.7936, 0.9408]])\n",
            "\n",
            "Random Tensor D (with seed 42):\n",
            "tensor([[0.8823, 0.9150, 0.3829],\n",
            "        [0.9593, 0.3904, 0.6009],\n",
            "        [0.2566, 0.7936, 0.9408]])\n",
            "\n",
            "Are Tensor C and Tensor D identical? True\n",
            "\n"
          ]
        }
      ]
    },
    {
      "cell_type": "code",
      "source": [
        "# Check for GPU access with PyTorch\n",
        "gpu_available = torch.cuda.is_available()\n",
        "print(f\"Is GPU available? {gpu_available}\")\n",
        "\n",
        "# Count the number of available GPU devices\n",
        "num_gpus = torch.cuda.device_count()\n",
        "print(f\"Number of GPUs available: {num_gpus}\\n\")\n",
        "\n",
        "# Working with tensors on GPU (if available)\n",
        "\n",
        "# Creating a tensor on CPU\n",
        "tensor_cpu = torch.tensor([1, 2, 3])\n",
        "print(f\"Tensor on CPU:\\n{tensor_cpu}, Device: {tensor_cpu.device}\")\n",
        "\n",
        "# Move tensor to GPU if available\n",
        "if gpu_available:\n",
        "    tensor_gpu = tensor_cpu.to(device='cuda')\n",
        "    print(f\"Tensor moved to GPU:\\n{tensor_gpu}, Device: {tensor_gpu.device}\\n\")\n",
        "else:\n",
        "    print(\"No GPU available. Tensor remains on CPU.\\n\")\n",
        "\n",
        "# Move tensor back to CPU and convert to NumPy array\n",
        "tensor_back_to_cpu = tensor_gpu.cpu().numpy() if gpu_available else tensor_cpu.numpy()\n",
        "print(f\"Tensor moved back to CPU and converted to NumPy array:\\n{tensor_back_to_cpu}\")"
      ],
      "metadata": {
        "colab": {
          "base_uri": "https://localhost:8080/"
        },
        "id": "LspAH-j8W9u8",
        "outputId": "858ec67b-4ea5-4628-fd3b-6e3db478d6c9"
      },
      "execution_count": 9,
      "outputs": [
        {
          "output_type": "stream",
          "name": "stdout",
          "text": [
            "Is GPU available? False\n",
            "Number of GPUs available: 0\n",
            "\n",
            "Tensor on CPU:\n",
            "tensor([1, 2, 3]), Device: cpu\n",
            "No GPU available. Tensor remains on CPU.\n",
            "\n",
            "Tensor moved back to CPU and converted to NumPy array:\n",
            "[1 2 3]\n"
          ]
        }
      ]
    },
    {
      "cell_type": "code",
      "source": [],
      "metadata": {
        "id": "Tp300wH7EMqC"
      },
      "execution_count": 9,
      "outputs": []
    }
  ]
}